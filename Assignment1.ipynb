{
 "cells": [
  {
   "cell_type": "code",
   "execution_count": null,
   "metadata": {},
   "outputs": [],
   "source": [
    "## HARSH BADHAN \n",
    "## 102317140\n"
   ]
  },
  {
   "cell_type": "code",
   "execution_count": 5,
   "metadata": {},
   "outputs": [
    {
     "name": "stdout",
     "output_type": "stream",
     "text": [
      "Science:\n",
      "Highest Marks: 52\n",
      "Lowest Marks: 34\n",
      "Average Marks: 42.25\n",
      "Maths:\n",
      "Highest Marks: 47\n",
      "Lowest Marks: 31\n",
      "Average Marks: 40.05\n",
      "English:\n",
      "Highest Marks: 66\n",
      "Lowest Marks: 33\n",
      "Average Marks: 47.9\n",
      "IT :\n",
      "Highest Marks: 54\n",
      "Lowest Marks: 33\n",
      "Average Marks: 43.2\n",
      "\n",
      "Overall Average:  43.35\n"
     ]
    }
   ],
   "source": [
    "# A class with 10 students wants to produce some information from the results of the four standard\n",
    "# tests in Maths, Science, English and IT. Each test is out of 100 marks. The information output\n",
    "# should be the highest, lowest and average mark for each test and the highest, lowest and average\n",
    "# mark overall. Write a program in Python to complete this task.\n",
    "maths = [34,42,46.5,31,40,44,41,33,42,47]\n",
    "science = [51.5,40,34,34,39,34,43,50,45,52]\n",
    "english = [37,66,55,66,33,46,44,33,44,55]\n",
    "it = [35,54,34,52,54,33,34,44,53,39]\n",
    "\n",
    "print(\"Science:\")\n",
    "print(\"Highest Marks:\", max(science));\n",
    "print(\"Lowest Marks:\", min(science));\n",
    "print(\"Average Marks:\", sum(science)/len(science));\n",
    "\n",
    "print(\"Maths:\")\n",
    "print(\"Highest Marks:\", max(maths));\n",
    "print(\"Lowest Marks:\", min(maths));\n",
    "print(\"Average Marks:\", sum(maths)/len(maths));\n",
    "\n",
    "print(\"English:\")\n",
    "print(\"Highest Marks:\", max(english));\n",
    "print(\"Lowest Marks:\", min(english));\n",
    "print(\"Average Marks:\", sum(english)/len(english));\n",
    "\n",
    "print(\"IT :\")\n",
    "print(\"Highest Marks:\", max(it));\n",
    "print(\"Lowest Marks:\", min(it));\n",
    "print(\"Average Marks:\", sum(it)/len(it));\n",
    "\n",
    "all_subjects = maths + science + english + it\n",
    "overall_average = sum(all_subjects) / len(all_subjects)\n",
    "print(\"\\nOverall Average: \", overall_average);\n"
   ]
  },
  {
   "cell_type": "code",
   "execution_count": 8,
   "metadata": {},
   "outputs": [
    {
     "name": "stdout",
     "output_type": "stream",
     "text": [
      "\n",
      "Basic Salary:  20000.0\n",
      "HRA:  5000.0\n",
      "DA:  18000.0\n",
      "Gross Salary:  43000.0\n"
     ]
    }
   ],
   "source": [
    "# Write a Python Program to input basic salary of an employee and calculate its Gross salary\n",
    "# according to following: Basic Salary <= 10000 : HRA = 20%, DA = 80% Basic Salary <= 20000\n",
    "# : HRA = 25%, DA = 90% Basic Salary > 20000 : HRA = 30%, DA = 95%.\n",
    "\n",
    "b_salary = float(input(\"Enter the Basic salary of the Employee: \"))\n",
    "\n",
    "if b_salary <= 10000:\n",
    "    hra = 0.20 * b_salary\n",
    "    da = 0.80 * b_salary\n",
    "elif b_salary <= 20000:\n",
    "    hra = 0.25 * b_salary\n",
    "    da = 0.90 * b_salary\n",
    "else:\n",
    "    hra = 0.30 * b_salary\n",
    "    da = 0.95 * b_salary\n",
    "    \n",
    "gross_salary = b_salary + hra + da\n",
    "\n",
    "print(\"\\nBasic Salary: \", b_salary);\n",
    "print(\"HRA: \", hra)\n",
    "print(\"DA: \", da)\n",
    "print(\"Gross Salary: \",gross_salary);"
   ]
  },
  {
   "cell_type": "code",
   "execution_count": 3,
   "metadata": {},
   "outputs": [
    {
     "name": "stdout",
     "output_type": "stream",
     "text": [
      "Valid password\n"
     ]
    }
   ],
   "source": [
    "# <!-- Write a Python program to check the validity of password input by users.\n",
    "# Validation:\n",
    "#  At least 1 letter between [a-z] and 1 letter between [A-Z].\n",
    "#  At least 1 number between [0-9].\n",
    "#  At least 1 character from [$#@].\n",
    "#  Minimum length 6 characters.\n",
    "#  Maximum length 16 characters. -->\n",
    "\n",
    "import re\n",
    "\n",
    "def is_pass_valid(password):\n",
    "    if len(password) < 6 or len(password) > 16:\n",
    "        return \"Invalid: Password must be between 6 and 16 characters\"\n",
    "    if not re.search(\"[a-z]\", password):\n",
    "        return \"Invalid: Password must contain at least one lowercase letter\"\n",
    "    if not re.search(\"[A-Z]\", password):\n",
    "        return \"Invalid: Password must contain at least one uppercase letter\"\n",
    "    if not re.search(\"[0-9]\", password):\n",
    "        return \"Invalid: Password must contain at least one number\"\n",
    "    if not re.search(\"[$#@]\", password):\n",
    "        return \"Invalid: Password must contain at least one special character ($#@)\"\n",
    "    return \"Valid password\"\n",
    "\n",
    "password = input(\"Please enter the password: \")\n",
    "print(is_pass_valid(password))\n",
    "\n"
   ]
  },
  {
   "cell_type": "code",
   "execution_count": 9,
   "metadata": {},
   "outputs": [
    {
     "name": "stdout",
     "output_type": "stream",
     "text": [
      "[10, 20, 30, 40, 50, 60, 70, 80, 90]\n",
      "After adding 200 and 300  [10, 20, 30, 40, 50, 60, 70, 80, 90, 200, 300]\n",
      "After removing 10 and 30  [20, 40, 50, 60, 70, 80, 90, 200, 300]\n",
      "List in Ascending Order:  [20, 40, 50, 60, 70, 80, 90, 200, 300]\n",
      "List in descending Order:  [300, 200, 90, 80, 70, 60, 50, 40, 20]\n"
     ]
    }
   ],
   "source": [
    "# Create a List L that is defined as= [10, 20, 30, 40, 50, 60, 70, 80].\n",
    "# (i) (ii) (iii) (iv) WAP to add 200 and 300 to L.\n",
    "# WAP to remove 10 and 30 from L.\n",
    "# WAP to sort L in ascending order.\n",
    "# WAP to sort L in descending order.\n",
    "\n",
    "L = [10,20,30,40,50,60,70,80,90]\n",
    "\n",
    "print(L);\n",
    "L.append(200)\n",
    "L.append(300)\n",
    "print(\"After adding 200 and 300 \", L)\n",
    "\n",
    "L.remove(10)\n",
    "L.remove(30)\n",
    "print(\"After removing 10 and 30 \", L)\n",
    "\n",
    "L.sort()\n",
    "print(\"List in Ascending Order: \", L)\n",
    "\n",
    "L.sort(reverse=True)\n",
    "print(\"List in descending Order: \", L)\n",
    "\n",
    "\n"
   ]
  },
  {
   "cell_type": "code",
   "execution_count": 1,
   "metadata": {},
   "outputs": [
    {
     "name": "stdout",
     "output_type": "stream",
     "text": [
      "{1: 'One', 2: 'Two', 3: 'Three', 4: 'Four', 5: 'Five'}\n",
      "After adding 6:  {1: 'One', 2: 'Two', 3: 'Three', 4: 'Four', 5: 'Five', 6: 'Six'}\n",
      "After removing 2:  {1: 'One', 3: 'Three', 4: 'Four', 5: 'Five', 6: 'Six'}\n",
      "Is 6 present in D:  True\n",
      "Number of elements in D:  5\n",
      "All values in D:  dict_values(['One', 'Three', 'Four', 'Five', 'Six'])\n"
     ]
    }
   ],
   "source": [
    "# D is a dictionary defined as D= {1:”One”, 2:”Two”, 3:”Three”, 4: “Four”, 5:”Five”}.\n",
    "# (i) (iii) (iv) (v) WAP to add new entry in D; key=6 and value is “Six”\n",
    "# (ii) WAP to remove key=2.\n",
    "# WAP to check if 6 key is present in D.\n",
    "# WAP to count the number of elements present in D.\n",
    "# # WAP to add all the values present D.\n",
    "\n",
    "D = {1:\"One\", 2:\"Two\", 3:\"Three\", 4:\"Four\", 5:\"Five\"}\n",
    "\n",
    "print(D)\n",
    "D[6] = \"Six\"\n",
    "print(\"After adding 6: \", D)\n",
    "\n",
    "D.pop(2)\n",
    "print(\"After removing 2: \", D)\n",
    "\n",
    "is_key_present = 6 in D\n",
    "print(\"Is 6 present in D: \", is_key_present)\n",
    "\n",
    "number_of_elements = len(D)\n",
    "print(\"Number of elements in D: \", number_of_elements)\n",
    "\n",
    "all_values = D.values()\n",
    "print(\"All values in D: \", all_values)\n"
   ]
  },
  {
   "cell_type": "code",
   "execution_count": 3,
   "metadata": {},
   "outputs": [
    {
     "name": "stdout",
     "output_type": "stream",
     "text": [
      "Odd numbers: [323, 483, 379, 663, 379, 623, 763, 429, 753, 241, 339, 895, 179, 553, 185, 465, 655, 273, 317, 369, 775, 275, 671, 797, 297, 659, 829, 435, 139, 845, 709, 857, 407, 501, 395, 327, 611, 209, 609, 531, 233, 121, 487, 725, 585, 815, 603, 623, 175, 307, 287, 503, 615, 665, 483]\n",
      "Count of odd numbers: 55\n",
      "Even numbers: [288, 862, 316, 356, 452, 284, 546, 304, 482, 834, 296, 376, 354, 558, 166, 852, 628, 670, 862, 842, 352, 612, 628, 550, 840, 294, 300, 482, 804, 862, 676, 562, 710, 748, 608, 344, 282, 164, 184, 786, 158, 210, 868, 568, 716]\n",
      "Count of even numbers: 45\n",
      "Prime numbers: [379, 379, 241, 179, 317, 797, 659, 829, 139, 709, 857, 233, 487, 307, 503]\n",
      "Count of prime numbers: 15\n"
     ]
    }
   ],
   "source": [
    "# WAP to create a list of 100 random numbers between 100 and 900. Count and print the:\n",
    "# (i) All odd numbers\n",
    "# (ii) All even numbers\n",
    "# (iii) All prime numbers\n",
    "import random\n",
    "\n",
    "def is_prime(n):\n",
    "    if n <= 1:\n",
    "        return False\n",
    "    for i in range(2, int(n**0.5) + 1):\n",
    "        if n % i == 0:\n",
    "            return False\n",
    "    return True\n",
    "\n",
    "random_numbers = [random.randint(100, 900) for _ in range(100)]\n",
    "\n",
    "odd_numbers = [num for num in random_numbers if num % 2 != 0]\n",
    "print(\"Odd numbers:\", odd_numbers)\n",
    "print(\"Count of odd numbers:\", len(odd_numbers))\n",
    "\n",
    "even_numbers = [num for num in random_numbers if num % 2 == 0]\n",
    "print(\"Even numbers:\", even_numbers)\n",
    "print(\"Count of even numbers:\", len(even_numbers))\n",
    "\n",
    "prime_numbers = [num for num in random_numbers if is_prime(num)]\n",
    "print(\"Prime numbers:\", prime_numbers)\n",
    "print(\"Count of prime numbers:\", len(prime_numbers))"
   ]
  },
  {
   "cell_type": "code",
   "execution_count": null,
   "metadata": {},
   "outputs": [
    {
     "name": "stdout",
     "output_type": "stream",
     "text": [
      "Writing ci_module.py\n"
     ]
    }
   ],
   "source": [
    "# 7 (i) Write a function which takes principal amount, interest rate and time. This function returns\n",
    "# compound interest. Call this function to print the output.\n",
    "\n",
    "%%writefile ci_module.py\n",
    "def compound_interest(principal, rate, time):\n",
    "    amount = principal * (1 + rate / 100) ** time\n",
    "    interest = amount - principal\n",
    "    return interest"
   ]
  },
  {
   "cell_type": "code",
   "execution_count": 11,
   "metadata": {},
   "outputs": [
    {
     "name": "stdout",
     "output_type": "stream",
     "text": [
      "Compound Interest: 10250.00\n"
     ]
    }
   ],
   "source": [
    "# (ii) Save this function (as a module) in a python file and call it in another python file.\n",
    "from ci_module import compound_interest\n",
    "\n",
    "p = float(input(\"Enter principal amount: \"))\n",
    "r = float(input(\"Enter interest rate: \"))\n",
    "t = float(input(\"Enter time period: \"))\n",
    "\n",
    "ci = compound_interest(p, r, t)\n",
    "print(f\"Compound Interest: {ci:.2f}\")"
   ]
  },
  {
   "cell_type": "code",
   "execution_count": 5,
   "metadata": {},
   "outputs": [
    {
     "name": "stdout",
     "output_type": "stream",
     "text": [
      "KFC\n",
      "Fast Food\n",
      "Restaurant Name: KFC\n",
      "Cuisine Type: Fast Food\n",
      "Restaurant is open\n"
     ]
    }
   ],
   "source": [
    "# A) Make a class called Restaurant. The __init__() method for Restaurant should store two\n",
    "# attributes: a restaurant_name and a cuisine_type. Make a method called describe_restaurant()\n",
    "# that prints these two pieces of information, and a method called open_restaurant() that prints a\n",
    "# message indicating that the restaurant is open. Make an instance called restaurant from your\n",
    "# class. Print the two attributes individually, and then call both methods.\n",
    "\n",
    "class Restaurant:\n",
    "    def __init__(self, restaurant_name, cuisine_type):\n",
    "        self.restaurant_name = restaurant_name\n",
    "        self.cuisine_type = cuisine_type\n",
    "\n",
    "    def describe_restaurant(self):\n",
    "        print(f\"Restaurant Name: {self.restaurant_name}\")\n",
    "        print(f\"Cuisine Type: {self.cuisine_type}\")\n",
    "\n",
    "    def open_restaurant(self):\n",
    "        print(\"Restaurant is open\")\n",
    "        \n",
    "restaurant = Restaurant(\"KFC\", \"Fast Food\")\n",
    "\n",
    "print(restaurant.restaurant_name)\n",
    "print(restaurant.cuisine_type)\n",
    "\n",
    "restaurant.describe_restaurant()\n",
    "restaurant.open_restaurant()"
   ]
  },
  {
   "cell_type": "code",
   "execution_count": 7,
   "metadata": {},
   "outputs": [
    {
     "name": "stdout",
     "output_type": "stream",
     "text": [
      "User Profile:\n",
      "First Name: Ben \n",
      "Last Name: Ten\n",
      "Age: 10\n",
      "Email: ben.t@example.com\n",
      "Username: tenben\n",
      "Hello, Ben  Ten! Welcome back.\n",
      "User Profile:\n",
      "First Name: Jane\n",
      "Last Name: Clave\n",
      "Age: 34\n",
      "Email: jane.c@example.com\n",
      "Username: clavejane\n",
      "Hello, Jane Clave! Welcome back.\n",
      "User Profile:\n",
      "First Name: Alice\n",
      "Last Name: Johnson\n",
      "Age: 22\n",
      "Email: alice.j@example.com\n",
      "Username: alicejohnson\n",
      "Hello, Alice Johnson! Welcome back.\n"
     ]
    }
   ],
   "source": [
    "# B) Make a class called User. Create two attributes called first_name and last_name, and then\n",
    "# create several other attributes that are typically stored in a user profile. Make a method called\n",
    "# describe_user() that prints a summary of the user’s information. Make another method called\n",
    "# greet_user() that prints a personalized greeting to the user. Create several instances representing\n",
    "# different users, and call both method for each user\n",
    "class User:\n",
    "    def __init__(self, first_name, last_name, age, email, username):\n",
    "        self.first_name = first_name\n",
    "        self.last_name = last_name\n",
    "        self.age = age\n",
    "        self.email = email\n",
    "        self.username = username\n",
    "\n",
    "    def describe_user(self):\n",
    "        print(f\"User Profile:\")\n",
    "        print(f\"First Name: {self.first_name}\")\n",
    "        print(f\"Last Name: {self.last_name}\")\n",
    "        print(f\"Age: {self.age}\")\n",
    "        print(f\"Email: {self.email}\")\n",
    "        print(f\"Username: {self.username}\")\n",
    "\n",
    "    def greet_user(self):\n",
    "        print(f\"Hello, {self.first_name} {self.last_name}! Welcome back.\")\n",
    "\n",
    "\n",
    "user1 = User(\"Ben \", \"Ten\", 10, \"ben.t@example.com\", \"tenben\")\n",
    "user2 = User(\"Jane\", \"Clave\", 34, \"jane.c@example.com\", \"clavejane\")\n",
    "user3 = User(\"Alice\", \"Johnson\", 22, \"alice.j@example.com\", \"alicejohnson\")\n",
    "\n",
    "\n",
    "user1.describe_user()\n",
    "user1.greet_user()\n",
    "\n",
    "user2.describe_user()\n",
    "user2.greet_user()\n",
    "\n",
    "user3.describe_user()\n",
    "user3.greet_user()"
   ]
  }
 ],
 "metadata": {
  "kernelspec": {
   "display_name": "base",
   "language": "python",
   "name": "python3"
  },
  "language_info": {
   "codemirror_mode": {
    "name": "ipython",
    "version": 3
   },
   "file_extension": ".py",
   "mimetype": "text/x-python",
   "name": "python",
   "nbconvert_exporter": "python",
   "pygments_lexer": "ipython3",
   "version": "3.12.7"
  }
 },
 "nbformat": 4,
 "nbformat_minor": 2
}
